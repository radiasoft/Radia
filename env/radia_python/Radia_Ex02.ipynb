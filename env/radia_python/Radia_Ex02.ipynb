{
 "cells": [
  {
   "cell_type": "markdown",
   "metadata": {},
   "source": [
    "# RADIA Python Example 2: ESRF Superconducting Wiggler\n",
    "\n",
    "This example creates a stack of four racetrack coils, one circular coil,\n",
    "and reflects them in the (_x_,_y_) plane.\n",
    "This geometry corresponds to a 4&#160;T superconducting wiggler that used\n",
    "to be in operation at the ESRF.\n",
    "\n",
    "After constructing the magnet, we ask Radia to caluculate the fields and then plot various resutls."
   ]
  },
  {
   "cell_type": "code",
   "execution_count": null,
   "metadata": {},
   "outputs": [],
   "source": [
    "from __future__ import print_function #Py 2.*/3.* compatibility\n",
    "import radia as rad\n",
    "import uti_plot\n",
    "import numpy as np\n",
    "\n",
    "# until we have 3D graphics, simply\n",
    "# import an illustration of this magnet\n",
    "from IPython.display import Image\n",
    "Image(filename=('./RadiaSCW.png'))"
   ]
  },
  {
   "cell_type": "code",
   "execution_count": null,
   "metadata": {},
   "outputs": [],
   "source": [
    "# describe the magnet geometry\n",
    "def buildMagnetSCW():\n",
    "    # current densities in A / mm^2\n",
    "    j1 = 128; j2 = 256\n",
    "    \n",
    "    # nuber of arc segments\n",
    "    n1 = 3; n2 = 6\n",
    "\n",
    "    # create 5 racetrack coils above the mid-plane:\n",
    "    #   lower inside, lower outside, upper inside, upper outside, and circular\n",
    "    # rad.ObjRaceTrk[ctr:[x,y,z], rad:[r1,r2], lstr:[lx,ly], ht, nseg, j]\n",
    "    rt1 = rad.ObjRaceTrk([0.,0.,38.], [  9.5, 24.5], [120.,0.], 36, n1,  j1)\n",
    "    rt2 = rad.ObjRaceTrk([0.,0.,38.], [ 24.5, 55.5], [120.,0.], 36, n1,  j2)\n",
    "    rt3 = rad.ObjRaceTrk([0.,0.,76.], [ 10.0, 25.0], [ 90.,0.], 24, n1,  j1)\n",
    "    rt4 = rad.ObjRaceTrk([0.,0.,76.], [ 25.0, 55.0], [ 90.,0.], 24, n1,  j2)\n",
    "    rt5 = rad.ObjRaceTrk([0.,0.,60.], [150.0,166.3], [  0.,0.], 39, n2, -j2)\n",
    "\n",
    "    # set colors and line thickness (must we do this here?!?)\n",
    "    #c1 = [0.0,1.0,1.0] # blue/green\n",
    "    #c2 = [1.0,0.4,0.0] # orange-red\n",
    "    #thcn = 0.001\n",
    "    #rad.ObjDrwAtr(rt1, c1, thcn)\n",
    "    #rad.ObjDrwAtr(rt2, c2, thcn)\n",
    "    #rad.ObjDrwAtr(rt3, c1, thcn)\n",
    "    #rad.ObjDrwAtr(rt4, c2, thcn)\n",
    "    #rad.ObjDrwAtr(rt5, c2, thcn)\n",
    "\n",
    "    # assemble into a group\n",
    "    grp = rad.ObjCnt([rt1, rt2, rt3, rt4, rt5])\n",
    "\n",
    "    # and reflect in the (x,y) plane [plane through (0,0,0) with normal (0,0,1)]\n",
    "    rad.TrfZerPara(grp, [0,0,0], [0,0,1])\n",
    "\n",
    "    return grp"
   ]
  },
  {
   "cell_type": "code",
   "execution_count": null,
   "metadata": {},
   "outputs": [],
   "source": [
    "# compute magnetic field and field integrals\n",
    "def calcField(g):\n",
    "\n",
    "    # vertical field as a function of Y\n",
    "    yMin = 0.; yMax = 300.; ny = 301\n",
    "    yStep = (yMax - yMin)/(ny - 1)\n",
    "    xc = 0.; zc = 0.\n",
    "    BzVsY = rad.Fld(g, 'bz', [[xc, yMin + iy * yStep, zc] for iy in range(ny)])\n",
    "\n",
    "    # mid-plane vertical field integrated along Y as a function of X\n",
    "    xMin = 0.; xMax = 400.; nx = 201\n",
    "    xStep = (xMax - xMin)/(nx - 1)\n",
    "    zc = 0.\n",
    "    IBzVsX = [rad.FldInt(g, 'inf', 'ibz', [xMin + ix * xStep, -300., zc], [xMin + ix * xStep, 300., zc])\n",
    "                        for ix in range(nx)]\n",
    "    \n",
    "    return BzVsY, [yMin, yMax, ny], IBzVsX, [xMin, xMax, nx]"
   ]
  },
  {
   "cell_type": "code",
   "execution_count": null,
   "metadata": {},
   "outputs": [],
   "source": [
    "# build the magnet\n",
    "g = buildMagnetSCW()\n",
    "#print('SCW Geometry Index:', g)\n",
    "\n",
    "## display 3D magnet geometry\n",
    "## set colors and line thickness\n",
    "#c1 = [0.0,1.0,1.0] # blue/green\n",
    "#c2 = [1.0,0.4,0.0] # orange-red\n",
    "#thcn = 0.001\n",
    "#rad.ObjDrwAtr(rt1, c1, thcn)\n",
    "#rad.ObjDrwAtr(rt2, c2, thcn)\n",
    "#rad.ObjDrwAtr(rt3, c1, thcn)\n",
    "#rad.ObjDrwAtr(rt4, c2, thcn)\n",
    "#rad.ObjDrwAtr(rt5, c2, thcn)\n",
    "#rad.ObjDrwOpenGL(g)"
   ]
  },
  {
   "cell_type": "code",
   "execution_count": null,
   "metadata": {},
   "outputs": [],
   "source": [
    "# calculate magnetic field and field integral\n",
    "BzVsY, MeshY, IBzVsX, MeshX = calcField(g)\n",
    "\n",
    "print('    Field Value at Center:', BzVsY[0],  'T')\n",
    "print(' Field Integral at Center:', IBzVsX[0], 'T.mm')\n",
    "\n",
    "# create plots of the results\n",
    "uti_plot.uti_plot1d(BzVsY, MeshY,\n",
    "                    ['Longitudinal Position [mm]', 'Bz [T]', 'Vertical Magnetic Field'])\n",
    "uti_plot.uti_plot1d(IBzVsX, MeshX,\n",
    "                    ['Horizontal Position [mm]', 'Integral of Bz [T.mm]', 'Vertical Magnetic Field Integral'])\n",
    "# show plots\n",
    "uti_plot.uti_plot_show()"
   ]
  }
 ],
 "metadata": {
  "kernelspec": {
   "display_name": "Python 2",
   "language": "python",
   "name": "py2"
  },
  "language_info": {
   "codemirror_mode": {
    "name": "ipython",
    "version": 2
   },
   "file_extension": ".py",
   "mimetype": "text/x-python",
   "name": "python",
   "nbconvert_exporter": "python",
   "pygments_lexer": "ipython2",
   "version": "2.7.16"
  }
 },
 "nbformat": 4,
 "nbformat_minor": 4
}
