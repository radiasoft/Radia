{
 "cells": [
  {
   "cell_type": "markdown",
   "metadata": {},
   "source": [
    "# Radia Python Example 1: Uniformly magnetized cube\n",
    "\n",
    "This is the simplest example: a single magnetized cube centered the origin,\n",
    "1&#160;mm on a side, and magnetized according to the vector [-0.5, 1.0, 0.7]&#160;Tesla.\n",
    "We compute the three components of the _**B**_ field at position [0.52, 0.60, 0.70].\n",
    "You should see values close to [0.12737, 0.028644, 0.077505]."
   ]
  },
  {
   "cell_type": "code",
   "execution_count": null,
   "metadata": {},
   "outputs": [],
   "source": [
    "from __future__ import division, print_function # Python 2.7 compatibility\n",
    "import radia as rad"
   ]
  },
  {
   "cell_type": "code",
   "execution_count": null,
   "metadata": {},
   "outputs": [],
   "source": [
    "m = rad.ObjRecMag([0,0,0], [1,1,1], [-0.5, 1.0, 0.7])\n",
    "\n",
    "B = rad.Fld(m, \"b\", [0.52, 0.60, 0.70])\n",
    "print(B)"
   ]
  }
 ],
 "metadata": {
  "kernelspec": {
   "display_name": "Python 2",
   "language": "python",
   "name": "py2"
  },
  "language_info": {
   "codemirror_mode": {
    "name": "ipython",
    "version": 2
   },
   "file_extension": ".py",
   "mimetype": "text/x-python",
   "name": "python",
   "nbconvert_exporter": "python",
   "pygments_lexer": "ipython2",
   "version": "2.7.16"
  }
 },
 "nbformat": 4,
 "nbformat_minor": 4
}
